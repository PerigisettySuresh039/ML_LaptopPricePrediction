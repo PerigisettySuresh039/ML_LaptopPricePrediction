{
  "nbformat": 4,
  "nbformat_minor": 0,
  "metadata": {
    "colab": {
      "name": "MLRP2.ipynb",
      "provenance": [],
      "collapsed_sections": []
    },
    "kernelspec": {
      "name": "python3",
      "display_name": "Python 3"
    },
    "language_info": {
      "name": "python"
    }
  },
  "cells": [
    {
      "cell_type": "markdown",
      "metadata": {
        "id": "kpR21P9Wvv4j"
      },
      "source": [
        "Importing the libraries\n"
      ]
    },
    {
      "cell_type": "code",
      "metadata": {
        "id": "aKE3TtRQvWvf"
      },
      "source": [
        "import numpy as np\n",
        "import pandas as pd\n",
        "import matplotlib.pyplot as plt"
      ],
      "execution_count": 42,
      "outputs": []
    },
    {
      "cell_type": "markdown",
      "metadata": {
        "id": "CfiRAZRMwYag"
      },
      "source": [
        "Importing data set"
      ]
    },
    {
      "cell_type": "code",
      "metadata": {
        "colab": {
          "base_uri": "https://localhost:8080/",
          "height": 948
        },
        "id": "jtT4hQa6wW7i",
        "outputId": "3f21b9ed-6ce0-42f9-f33f-23b41866a2c7"
      },
      "source": [
        "df=pd.read_csv(\"/content/laptop_pricing.csv\")\n",
        "df"
      ],
      "execution_count": 43,
      "outputs": [
        {
          "output_type": "execute_result",
          "data": {
            "text/html": [
              "<div>\n",
              "<style scoped>\n",
              "    .dataframe tbody tr th:only-of-type {\n",
              "        vertical-align: middle;\n",
              "    }\n",
              "\n",
              "    .dataframe tbody tr th {\n",
              "        vertical-align: top;\n",
              "    }\n",
              "\n",
              "    .dataframe thead th {\n",
              "        text-align: right;\n",
              "    }\n",
              "</style>\n",
              "<table border=\"1\" class=\"dataframe\">\n",
              "  <thead>\n",
              "    <tr style=\"text-align: right;\">\n",
              "      <th></th>\n",
              "      <th>Manufacturer</th>\n",
              "      <th>IntelCore(i-)</th>\n",
              "      <th>IntelCoreGen</th>\n",
              "      <th>processing speed(GHz)</th>\n",
              "      <th>Ram(gb)</th>\n",
              "      <th>HDD(gb)</th>\n",
              "      <th>SSD(gb)</th>\n",
              "      <th>Graphics(gb)</th>\n",
              "      <th>ScreenSize(inch)</th>\n",
              "      <th>Price</th>\n",
              "    </tr>\n",
              "  </thead>\n",
              "  <tbody>\n",
              "    <tr>\n",
              "      <th>0</th>\n",
              "      <td>Dell</td>\n",
              "      <td>3</td>\n",
              "      <td>7</td>\n",
              "      <td>2.29</td>\n",
              "      <td>4</td>\n",
              "      <td>1000</td>\n",
              "      <td>0</td>\n",
              "      <td>0</td>\n",
              "      <td>15.6</td>\n",
              "      <td>39057</td>\n",
              "    </tr>\n",
              "    <tr>\n",
              "      <th>1</th>\n",
              "      <td>Dell</td>\n",
              "      <td>3</td>\n",
              "      <td>7</td>\n",
              "      <td>2.30</td>\n",
              "      <td>4</td>\n",
              "      <td>1000</td>\n",
              "      <td>0</td>\n",
              "      <td>0</td>\n",
              "      <td>15.6</td>\n",
              "      <td>45141</td>\n",
              "    </tr>\n",
              "    <tr>\n",
              "      <th>2</th>\n",
              "      <td>HP</td>\n",
              "      <td>3</td>\n",
              "      <td>7</td>\n",
              "      <td>2.30</td>\n",
              "      <td>8</td>\n",
              "      <td>256</td>\n",
              "      <td>256</td>\n",
              "      <td>0</td>\n",
              "      <td>14.0</td>\n",
              "      <td>35999</td>\n",
              "    </tr>\n",
              "    <tr>\n",
              "      <th>3</th>\n",
              "      <td>ASUS</td>\n",
              "      <td>3</td>\n",
              "      <td>7</td>\n",
              "      <td>2.30</td>\n",
              "      <td>4</td>\n",
              "      <td>1000</td>\n",
              "      <td>0</td>\n",
              "      <td>0</td>\n",
              "      <td>14.0</td>\n",
              "      <td>39990</td>\n",
              "    </tr>\n",
              "    <tr>\n",
              "      <th>4</th>\n",
              "      <td>HP</td>\n",
              "      <td>3</td>\n",
              "      <td>7</td>\n",
              "      <td>2.40</td>\n",
              "      <td>4</td>\n",
              "      <td>1000</td>\n",
              "      <td>0</td>\n",
              "      <td>0</td>\n",
              "      <td>15.6</td>\n",
              "      <td>36263</td>\n",
              "    </tr>\n",
              "    <tr>\n",
              "      <th>5</th>\n",
              "      <td>HP</td>\n",
              "      <td>2</td>\n",
              "      <td>4</td>\n",
              "      <td>2.30</td>\n",
              "      <td>4</td>\n",
              "      <td>500</td>\n",
              "      <td>256</td>\n",
              "      <td>0</td>\n",
              "      <td>14.0</td>\n",
              "      <td>26403</td>\n",
              "    </tr>\n",
              "    <tr>\n",
              "      <th>6</th>\n",
              "      <td>Lenovo</td>\n",
              "      <td>3</td>\n",
              "      <td>7</td>\n",
              "      <td>2.30</td>\n",
              "      <td>4</td>\n",
              "      <td>1000</td>\n",
              "      <td>0</td>\n",
              "      <td>0</td>\n",
              "      <td>15.6</td>\n",
              "      <td>38290</td>\n",
              "    </tr>\n",
              "    <tr>\n",
              "      <th>7</th>\n",
              "      <td>HP</td>\n",
              "      <td>5</td>\n",
              "      <td>8</td>\n",
              "      <td>1.60</td>\n",
              "      <td>8</td>\n",
              "      <td>1000</td>\n",
              "      <td>0</td>\n",
              "      <td>0</td>\n",
              "      <td>14.0</td>\n",
              "      <td>53554</td>\n",
              "    </tr>\n",
              "    <tr>\n",
              "      <th>8</th>\n",
              "      <td>Lenovo</td>\n",
              "      <td>1</td>\n",
              "      <td>3</td>\n",
              "      <td>1.80</td>\n",
              "      <td>4</td>\n",
              "      <td>1000</td>\n",
              "      <td>0</td>\n",
              "      <td>0</td>\n",
              "      <td>15.6</td>\n",
              "      <td>29990</td>\n",
              "    </tr>\n",
              "    <tr>\n",
              "      <th>9</th>\n",
              "      <td>Dell</td>\n",
              "      <td>3</td>\n",
              "      <td>8</td>\n",
              "      <td>3.90</td>\n",
              "      <td>4</td>\n",
              "      <td>1000</td>\n",
              "      <td>0</td>\n",
              "      <td>0</td>\n",
              "      <td>14.0</td>\n",
              "      <td>38090</td>\n",
              "    </tr>\n",
              "    <tr>\n",
              "      <th>10</th>\n",
              "      <td>HP</td>\n",
              "      <td>3</td>\n",
              "      <td>7</td>\n",
              "      <td>2.30</td>\n",
              "      <td>8</td>\n",
              "      <td>1000</td>\n",
              "      <td>0</td>\n",
              "      <td>0</td>\n",
              "      <td>15.6</td>\n",
              "      <td>42192</td>\n",
              "    </tr>\n",
              "    <tr>\n",
              "      <th>11</th>\n",
              "      <td>Lenovo</td>\n",
              "      <td>2</td>\n",
              "      <td>5</td>\n",
              "      <td>2.30</td>\n",
              "      <td>4</td>\n",
              "      <td>1000</td>\n",
              "      <td>0</td>\n",
              "      <td>0</td>\n",
              "      <td>15.6</td>\n",
              "      <td>34890</td>\n",
              "    </tr>\n",
              "    <tr>\n",
              "      <th>12</th>\n",
              "      <td>HP</td>\n",
              "      <td>3</td>\n",
              "      <td>7</td>\n",
              "      <td>2.30</td>\n",
              "      <td>4</td>\n",
              "      <td>1000</td>\n",
              "      <td>0</td>\n",
              "      <td>0</td>\n",
              "      <td>14.0</td>\n",
              "      <td>33905</td>\n",
              "    </tr>\n",
              "    <tr>\n",
              "      <th>13</th>\n",
              "      <td>Lenovo</td>\n",
              "      <td>3</td>\n",
              "      <td>8</td>\n",
              "      <td>2.10</td>\n",
              "      <td>4</td>\n",
              "      <td>1000</td>\n",
              "      <td>0</td>\n",
              "      <td>0</td>\n",
              "      <td>15.6</td>\n",
              "      <td>42590</td>\n",
              "    </tr>\n",
              "    <tr>\n",
              "      <th>14</th>\n",
              "      <td>Lenovo</td>\n",
              "      <td>3</td>\n",
              "      <td>8</td>\n",
              "      <td>2.10</td>\n",
              "      <td>8</td>\n",
              "      <td>1000</td>\n",
              "      <td>0</td>\n",
              "      <td>0</td>\n",
              "      <td>15.6</td>\n",
              "      <td>45390</td>\n",
              "    </tr>\n",
              "    <tr>\n",
              "      <th>15</th>\n",
              "      <td>HP</td>\n",
              "      <td>3</td>\n",
              "      <td>7</td>\n",
              "      <td>2.30</td>\n",
              "      <td>8</td>\n",
              "      <td>1000</td>\n",
              "      <td>0</td>\n",
              "      <td>0</td>\n",
              "      <td>15.6</td>\n",
              "      <td>40338</td>\n",
              "    </tr>\n",
              "    <tr>\n",
              "      <th>16</th>\n",
              "      <td>ASUS</td>\n",
              "      <td>5</td>\n",
              "      <td>8</td>\n",
              "      <td>1.60</td>\n",
              "      <td>8</td>\n",
              "      <td>512</td>\n",
              "      <td>512</td>\n",
              "      <td>0</td>\n",
              "      <td>15.6</td>\n",
              "      <td>56990</td>\n",
              "    </tr>\n",
              "    <tr>\n",
              "      <th>17</th>\n",
              "      <td>Lenovo</td>\n",
              "      <td>1</td>\n",
              "      <td>3</td>\n",
              "      <td>1.80</td>\n",
              "      <td>4</td>\n",
              "      <td>1000</td>\n",
              "      <td>0</td>\n",
              "      <td>0</td>\n",
              "      <td>15.6</td>\n",
              "      <td>30690</td>\n",
              "    </tr>\n",
              "    <tr>\n",
              "      <th>18</th>\n",
              "      <td>HP</td>\n",
              "      <td>3</td>\n",
              "      <td>7</td>\n",
              "      <td>2.40</td>\n",
              "      <td>4</td>\n",
              "      <td>1000</td>\n",
              "      <td>0</td>\n",
              "      <td>0</td>\n",
              "      <td>15.6</td>\n",
              "      <td>35634</td>\n",
              "    </tr>\n",
              "    <tr>\n",
              "      <th>19</th>\n",
              "      <td>HP</td>\n",
              "      <td>5</td>\n",
              "      <td>9</td>\n",
              "      <td>2.40</td>\n",
              "      <td>8</td>\n",
              "      <td>1000</td>\n",
              "      <td>256</td>\n",
              "      <td>4</td>\n",
              "      <td>15.6</td>\n",
              "      <td>74931</td>\n",
              "    </tr>\n",
              "    <tr>\n",
              "      <th>20</th>\n",
              "      <td>ASUS</td>\n",
              "      <td>5</td>\n",
              "      <td>9</td>\n",
              "      <td>2.10</td>\n",
              "      <td>8</td>\n",
              "      <td>1000</td>\n",
              "      <td>512</td>\n",
              "      <td>4</td>\n",
              "      <td>15.6</td>\n",
              "      <td>97990</td>\n",
              "    </tr>\n",
              "    <tr>\n",
              "      <th>21</th>\n",
              "      <td>HP</td>\n",
              "      <td>5</td>\n",
              "      <td>9</td>\n",
              "      <td>2.40</td>\n",
              "      <td>8</td>\n",
              "      <td>1000</td>\n",
              "      <td>0</td>\n",
              "      <td>4</td>\n",
              "      <td>15.6</td>\n",
              "      <td>69071</td>\n",
              "    </tr>\n",
              "    <tr>\n",
              "      <th>22</th>\n",
              "      <td>ASUS</td>\n",
              "      <td>7</td>\n",
              "      <td>8</td>\n",
              "      <td>2.20</td>\n",
              "      <td>8</td>\n",
              "      <td>1000</td>\n",
              "      <td>16</td>\n",
              "      <td>4</td>\n",
              "      <td>15.6</td>\n",
              "      <td>109999</td>\n",
              "    </tr>\n",
              "    <tr>\n",
              "      <th>23</th>\n",
              "      <td>Lenovo</td>\n",
              "      <td>7</td>\n",
              "      <td>9</td>\n",
              "      <td>2.60</td>\n",
              "      <td>8</td>\n",
              "      <td>1000</td>\n",
              "      <td>256</td>\n",
              "      <td>4</td>\n",
              "      <td>15.6</td>\n",
              "      <td>118890</td>\n",
              "    </tr>\n",
              "    <tr>\n",
              "      <th>24</th>\n",
              "      <td>Lenovo</td>\n",
              "      <td>7</td>\n",
              "      <td>9</td>\n",
              "      <td>2.60</td>\n",
              "      <td>16</td>\n",
              "      <td>1000</td>\n",
              "      <td>256</td>\n",
              "      <td>4</td>\n",
              "      <td>15.6</td>\n",
              "      <td>128690</td>\n",
              "    </tr>\n",
              "    <tr>\n",
              "      <th>25</th>\n",
              "      <td>Lenovo</td>\n",
              "      <td>7</td>\n",
              "      <td>9</td>\n",
              "      <td>2.60</td>\n",
              "      <td>8</td>\n",
              "      <td>1000</td>\n",
              "      <td>512</td>\n",
              "      <td>4</td>\n",
              "      <td>15.6</td>\n",
              "      <td>118890</td>\n",
              "    </tr>\n",
              "    <tr>\n",
              "      <th>26</th>\n",
              "      <td>Lenovo</td>\n",
              "      <td>5</td>\n",
              "      <td>9</td>\n",
              "      <td>2.40</td>\n",
              "      <td>8</td>\n",
              "      <td>1000</td>\n",
              "      <td>256</td>\n",
              "      <td>3</td>\n",
              "      <td>15.6</td>\n",
              "      <td>92990</td>\n",
              "    </tr>\n",
              "    <tr>\n",
              "      <th>27</th>\n",
              "      <td>ASUS</td>\n",
              "      <td>7</td>\n",
              "      <td>9</td>\n",
              "      <td>2.60</td>\n",
              "      <td>32</td>\n",
              "      <td>1000</td>\n",
              "      <td>512</td>\n",
              "      <td>8</td>\n",
              "      <td>17.3</td>\n",
              "      <td>402990</td>\n",
              "    </tr>\n",
              "    <tr>\n",
              "      <th>28</th>\n",
              "      <td>HP</td>\n",
              "      <td>7</td>\n",
              "      <td>9</td>\n",
              "      <td>2.60</td>\n",
              "      <td>8</td>\n",
              "      <td>1000</td>\n",
              "      <td>256</td>\n",
              "      <td>4</td>\n",
              "      <td>15.6</td>\n",
              "      <td>99555</td>\n",
              "    </tr>\n",
              "  </tbody>\n",
              "</table>\n",
              "</div>"
            ],
            "text/plain": [
              "   Manufacturer  IntelCore(i-)  ...  ScreenSize(inch)   Price\n",
              "0          Dell              3  ...              15.6   39057\n",
              "1          Dell              3  ...              15.6   45141\n",
              "2            HP              3  ...              14.0   35999\n",
              "3          ASUS              3  ...              14.0   39990\n",
              "4            HP              3  ...              15.6   36263\n",
              "5            HP              2  ...              14.0   26403\n",
              "6        Lenovo              3  ...              15.6   38290\n",
              "7            HP              5  ...              14.0   53554\n",
              "8        Lenovo              1  ...              15.6   29990\n",
              "9          Dell              3  ...              14.0   38090\n",
              "10           HP              3  ...              15.6   42192\n",
              "11       Lenovo              2  ...              15.6   34890\n",
              "12           HP              3  ...              14.0   33905\n",
              "13       Lenovo              3  ...              15.6   42590\n",
              "14       Lenovo              3  ...              15.6   45390\n",
              "15           HP              3  ...              15.6   40338\n",
              "16         ASUS              5  ...              15.6   56990\n",
              "17       Lenovo              1  ...              15.6   30690\n",
              "18           HP              3  ...              15.6   35634\n",
              "19           HP              5  ...              15.6   74931\n",
              "20         ASUS              5  ...              15.6   97990\n",
              "21           HP              5  ...              15.6   69071\n",
              "22         ASUS              7  ...              15.6  109999\n",
              "23       Lenovo              7  ...              15.6  118890\n",
              "24       Lenovo              7  ...              15.6  128690\n",
              "25       Lenovo              7  ...              15.6  118890\n",
              "26       Lenovo              5  ...              15.6   92990\n",
              "27         ASUS              7  ...              17.3  402990\n",
              "28           HP              7  ...              15.6   99555\n",
              "\n",
              "[29 rows x 10 columns]"
            ]
          },
          "metadata": {},
          "execution_count": 43
        }
      ]
    },
    {
      "cell_type": "markdown",
      "metadata": {
        "id": "0_OlUQk04yNO"
      },
      "source": [
        "Taking input and output"
      ]
    },
    {
      "cell_type": "code",
      "metadata": {
        "id": "FwuF01SY4xHK"
      },
      "source": [
        "x=df.iloc[:,:-1].values\n",
        "y=df.iloc[:,-1].values"
      ],
      "execution_count": 44,
      "outputs": []
    },
    {
      "cell_type": "code",
      "metadata": {
        "colab": {
          "base_uri": "https://localhost:8080/"
        },
        "id": "PZTFBTRF7Lms",
        "outputId": "d3c42fa1-7a60-48b7-9ac8-97e97a8295f8"
      },
      "source": [
        "x"
      ],
      "execution_count": 45,
      "outputs": [
        {
          "output_type": "execute_result",
          "data": {
            "text/plain": [
              "array([['Dell', 3, 7, 2.29, 4, 1000, 0, 0, 15.6],\n",
              "       ['Dell', 3, 7, 2.3, 4, 1000, 0, 0, 15.6],\n",
              "       ['HP', 3, 7, 2.3, 8, 256, 256, 0, 14.0],\n",
              "       ['ASUS', 3, 7, 2.3, 4, 1000, 0, 0, 14.0],\n",
              "       ['HP', 3, 7, 2.4, 4, 1000, 0, 0, 15.6],\n",
              "       ['HP', 2, 4, 2.3, 4, 500, 256, 0, 14.0],\n",
              "       ['Lenovo', 3, 7, 2.3, 4, 1000, 0, 0, 15.6],\n",
              "       ['HP', 5, 8, 1.6, 8, 1000, 0, 0, 14.0],\n",
              "       ['Lenovo', 1, 3, 1.8, 4, 1000, 0, 0, 15.6],\n",
              "       ['Dell', 3, 8, 3.9, 4, 1000, 0, 0, 14.0],\n",
              "       ['HP', 3, 7, 2.3, 8, 1000, 0, 0, 15.6],\n",
              "       ['Lenovo', 2, 5, 2.3, 4, 1000, 0, 0, 15.6],\n",
              "       ['HP', 3, 7, 2.3, 4, 1000, 0, 0, 14.0],\n",
              "       ['Lenovo', 3, 8, 2.1, 4, 1000, 0, 0, 15.6],\n",
              "       ['Lenovo', 3, 8, 2.1, 8, 1000, 0, 0, 15.6],\n",
              "       ['HP', 3, 7, 2.3, 8, 1000, 0, 0, 15.6],\n",
              "       ['ASUS', 5, 8, 1.6, 8, 512, 512, 0, 15.6],\n",
              "       ['Lenovo', 1, 3, 1.8, 4, 1000, 0, 0, 15.6],\n",
              "       ['HP', 3, 7, 2.4, 4, 1000, 0, 0, 15.6],\n",
              "       ['HP', 5, 9, 2.4, 8, 1000, 256, 4, 15.6],\n",
              "       ['ASUS', 5, 9, 2.1, 8, 1000, 512, 4, 15.6],\n",
              "       ['HP', 5, 9, 2.4, 8, 1000, 0, 4, 15.6],\n",
              "       ['ASUS', 7, 8, 2.2, 8, 1000, 16, 4, 15.6],\n",
              "       ['Lenovo', 7, 9, 2.6, 8, 1000, 256, 4, 15.6],\n",
              "       ['Lenovo', 7, 9, 2.6, 16, 1000, 256, 4, 15.6],\n",
              "       ['Lenovo', 7, 9, 2.6, 8, 1000, 512, 4, 15.6],\n",
              "       ['Lenovo', 5, 9, 2.4, 8, 1000, 256, 3, 15.6],\n",
              "       ['ASUS', 7, 9, 2.6, 32, 1000, 512, 8, 17.3],\n",
              "       ['HP', 7, 9, 2.6, 8, 1000, 256, 4, 15.6]], dtype=object)"
            ]
          },
          "metadata": {},
          "execution_count": 45
        }
      ]
    },
    {
      "cell_type": "code",
      "metadata": {
        "colab": {
          "base_uri": "https://localhost:8080/"
        },
        "id": "rn79lDLW27QX",
        "outputId": "cfad6813-ee36-47d4-e5a1-04c3418aae75"
      },
      "source": [
        "y"
      ],
      "execution_count": 46,
      "outputs": [
        {
          "output_type": "execute_result",
          "data": {
            "text/plain": [
              "array([ 39057,  45141,  35999,  39990,  36263,  26403,  38290,  53554,\n",
              "        29990,  38090,  42192,  34890,  33905,  42590,  45390,  40338,\n",
              "        56990,  30690,  35634,  74931,  97990,  69071, 109999, 118890,\n",
              "       128690, 118890,  92990, 402990,  99555])"
            ]
          },
          "metadata": {},
          "execution_count": 46
        }
      ]
    },
    {
      "cell_type": "markdown",
      "metadata": {
        "id": "auHWjBSP3xsj"
      },
      "source": [
        "Encoding cateogarical i.e nothing but string data"
      ]
    },
    {
      "cell_type": "code",
      "metadata": {
        "id": "H45Bi7hi3pG5"
      },
      "source": [
        "from sklearn.compose import ColumnTransformer\n",
        "from sklearn.preprocessing import OneHotEncoder\n",
        "ct=ColumnTransformer(transformers=[('encoder',OneHotEncoder(),[0])],remainder='passthrough')\n",
        "x=np.array(ct.fit_transform(x))"
      ],
      "execution_count": 47,
      "outputs": []
    },
    {
      "cell_type": "code",
      "metadata": {
        "colab": {
          "base_uri": "https://localhost:8080/"
        },
        "id": "WuYVeURX4Nnq",
        "outputId": "e88a59da-6e7f-442a-b067-ec2410b8d60c"
      },
      "source": [
        "print(x)"
      ],
      "execution_count": 48,
      "outputs": [
        {
          "output_type": "stream",
          "name": "stdout",
          "text": [
            "[[0.0 1.0 0.0 0.0 3 7 2.29 4 1000 0 0 15.6]\n",
            " [0.0 1.0 0.0 0.0 3 7 2.3 4 1000 0 0 15.6]\n",
            " [0.0 0.0 1.0 0.0 3 7 2.3 8 256 256 0 14.0]\n",
            " [1.0 0.0 0.0 0.0 3 7 2.3 4 1000 0 0 14.0]\n",
            " [0.0 0.0 1.0 0.0 3 7 2.4 4 1000 0 0 15.6]\n",
            " [0.0 0.0 1.0 0.0 2 4 2.3 4 500 256 0 14.0]\n",
            " [0.0 0.0 0.0 1.0 3 7 2.3 4 1000 0 0 15.6]\n",
            " [0.0 0.0 1.0 0.0 5 8 1.6 8 1000 0 0 14.0]\n",
            " [0.0 0.0 0.0 1.0 1 3 1.8 4 1000 0 0 15.6]\n",
            " [0.0 1.0 0.0 0.0 3 8 3.9 4 1000 0 0 14.0]\n",
            " [0.0 0.0 1.0 0.0 3 7 2.3 8 1000 0 0 15.6]\n",
            " [0.0 0.0 0.0 1.0 2 5 2.3 4 1000 0 0 15.6]\n",
            " [0.0 0.0 1.0 0.0 3 7 2.3 4 1000 0 0 14.0]\n",
            " [0.0 0.0 0.0 1.0 3 8 2.1 4 1000 0 0 15.6]\n",
            " [0.0 0.0 0.0 1.0 3 8 2.1 8 1000 0 0 15.6]\n",
            " [0.0 0.0 1.0 0.0 3 7 2.3 8 1000 0 0 15.6]\n",
            " [1.0 0.0 0.0 0.0 5 8 1.6 8 512 512 0 15.6]\n",
            " [0.0 0.0 0.0 1.0 1 3 1.8 4 1000 0 0 15.6]\n",
            " [0.0 0.0 1.0 0.0 3 7 2.4 4 1000 0 0 15.6]\n",
            " [0.0 0.0 1.0 0.0 5 9 2.4 8 1000 256 4 15.6]\n",
            " [1.0 0.0 0.0 0.0 5 9 2.1 8 1000 512 4 15.6]\n",
            " [0.0 0.0 1.0 0.0 5 9 2.4 8 1000 0 4 15.6]\n",
            " [1.0 0.0 0.0 0.0 7 8 2.2 8 1000 16 4 15.6]\n",
            " [0.0 0.0 0.0 1.0 7 9 2.6 8 1000 256 4 15.6]\n",
            " [0.0 0.0 0.0 1.0 7 9 2.6 16 1000 256 4 15.6]\n",
            " [0.0 0.0 0.0 1.0 7 9 2.6 8 1000 512 4 15.6]\n",
            " [0.0 0.0 0.0 1.0 5 9 2.4 8 1000 256 3 15.6]\n",
            " [1.0 0.0 0.0 0.0 7 9 2.6 32 1000 512 8 17.3]\n",
            " [0.0 0.0 1.0 0.0 7 9 2.6 8 1000 256 4 15.6]]\n"
          ]
        }
      ]
    },
    {
      "cell_type": "markdown",
      "metadata": {
        "id": "f3yiH3sdVj7N"
      },
      "source": [
        "Splitting into training testing set"
      ]
    },
    {
      "cell_type": "code",
      "metadata": {
        "id": "sgeI9nwS8Vud"
      },
      "source": [
        "from sklearn.model_selection import train_test_split\n",
        "x_train,x_test,y_train,y_test=train_test_split(x,y,test_size=0.4,random_state=0)"
      ],
      "execution_count": 127,
      "outputs": []
    },
    {
      "cell_type": "markdown",
      "metadata": {
        "id": "VUAV0GoIXkt_"
      },
      "source": [
        "Training the MLR set under training set"
      ]
    },
    {
      "cell_type": "code",
      "metadata": {
        "colab": {
          "base_uri": "https://localhost:8080/"
        },
        "id": "oSkuad_tXcUb",
        "outputId": "544f363f-ad51-4f24-be2e-f2c9fdb637c9"
      },
      "source": [
        "from sklearn.linear_model import LinearRegression\n",
        "model = LinearRegression()\n",
        "model.fit(x_train, y_train)"
      ],
      "execution_count": 128,
      "outputs": [
        {
          "output_type": "execute_result",
          "data": {
            "text/plain": [
              "LinearRegression(copy_X=True, fit_intercept=True, n_jobs=None, normalize=False)"
            ]
          },
          "metadata": {},
          "execution_count": 128
        }
      ]
    },
    {
      "cell_type": "markdown",
      "metadata": {
        "id": "soQ6XoiMcYEz"
      },
      "source": [
        "Now we have to predict the output\n"
      ]
    },
    {
      "cell_type": "code",
      "metadata": {
        "colab": {
          "base_uri": "https://localhost:8080/"
        },
        "id": "W9GSKZWWYRzp",
        "outputId": "161f31a2-1413-4671-dbbb-b33c8aa64f5e"
      },
      "source": [
        "y_pred = model.predict(x_test)      #predicted output for the tested input\n",
        "y_pred"
      ],
      "execution_count": 129,
      "outputs": [
        {
          "output_type": "execute_result",
          "data": {
            "text/plain": [
              "array([ 44937.96570063,  91351.51025737, 107708.59348661,  34145.02927154,\n",
              "        36896.79392056, 113864.58098372, 188804.95100295,  79181.4073736 ,\n",
              "        37607.36917343,  43339.18962995,  31769.29553872,  82930.56059507])"
            ]
          },
          "metadata": {},
          "execution_count": 129
        }
      ]
    },
    {
      "cell_type": "code",
      "metadata": {
        "colab": {
          "base_uri": "https://localhost:8080/"
        },
        "id": "-QPbqwdNcoML",
        "outputId": "6446cfac-92fd-495c-b8b8-e1e6556bc1cd"
      },
      "source": [
        "y_test     #original output"
      ],
      "execution_count": 130,
      "outputs": [
        {
          "output_type": "execute_result",
          "data": {
            "text/plain": [
              "array([ 35999,  97990, 118890,  42590,  34890, 118890, 402990,  92990,\n",
              "        26403,  45390,  29990,  56990])"
            ]
          },
          "metadata": {},
          "execution_count": 130
        }
      ]
    },
    {
      "cell_type": "markdown",
      "metadata": {
        "id": "jX87Tg0KeY6Y"
      },
      "source": [
        "Comparing the two values "
      ]
    },
    {
      "cell_type": "code",
      "metadata": {
        "colab": {
          "base_uri": "https://localhost:8080/"
        },
        "id": "AKmoFwiZc3fd",
        "outputId": "7fd7687f-8bbd-4bc0-e1ba-b2d1a88a4f2b"
      },
      "source": [
        "print(np.concatenate((y_pred.reshape(len(y_pred),1),y_test.reshape(len(y_test),1)),1))"
      ],
      "execution_count": 131,
      "outputs": [
        {
          "output_type": "stream",
          "name": "stdout",
          "text": [
            "[[ 44937.96570063  35999.        ]\n",
            " [ 91351.51025737  97990.        ]\n",
            " [107708.59348661 118890.        ]\n",
            " [ 34145.02927154  42590.        ]\n",
            " [ 36896.79392056  34890.        ]\n",
            " [113864.58098372 118890.        ]\n",
            " [188804.95100295 402990.        ]\n",
            " [ 79181.4073736   92990.        ]\n",
            " [ 37607.36917343  26403.        ]\n",
            " [ 43339.18962995  45390.        ]\n",
            " [ 31769.29553872  29990.        ]\n",
            " [ 82930.56059507  56990.        ]]\n"
          ]
        }
      ]
    },
    {
      "cell_type": "markdown",
      "metadata": {
        "id": "4dzfpwWUfeWG"
      },
      "source": [
        "Visualization"
      ]
    },
    {
      "cell_type": "code",
      "metadata": {
        "colab": {
          "base_uri": "https://localhost:8080/",
          "height": 265
        },
        "id": "g5loz3J-ediu",
        "outputId": "1362c69f-3e45-4b60-9a62-6eb7a8dd68a0"
      },
      "source": [
        "plt.plot(y_pred)\n",
        "plt.plot(y_test)\n",
        "plt.show()"
      ],
      "execution_count": 132,
      "outputs": [
        {
          "output_type": "display_data",
          "data": {
            "image/png": "[encoded data removed]",
            "text/plain": [
              "<Figure size 432x288 with 1 Axes>"
            ]
          },
          "metadata": {
            "needs_background": "light"
          }
        }
      ]
    },
    {
      "cell_type": "markdown",
      "metadata": {
        "id": "4PEHD3WCguFr"
      },
      "source": [
        "Checking the defficiency of the machine"
      ]
    },
    {
      "cell_type": "code",
      "metadata": {
        "colab": {
          "base_uri": "https://localhost:8080/"
        },
        "id": "JIEViGNPfnhj",
        "outputId": "1c262679-e0d7-4bc8-c76e-1902c7277eb2"
      },
      "source": [
        "from sklearn.metrics import r2_score\n",
        "r2_score(y_test,y_pred)"
      ],
      "execution_count": 133,
      "outputs": [
        {
          "output_type": "execute_result",
          "data": {
            "text/plain": [
              "0.60178731342484"
            ]
          },
          "metadata": {},
          "execution_count": 133
        }
      ]
    }
  ]
}